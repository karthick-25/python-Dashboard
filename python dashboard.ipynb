{
 "cells": [
  {
   "cell_type": "code",
   "execution_count": 2,
   "id": "6a98d7aa",
   "metadata": {},
   "outputs": [
    {
     "name": "stdout",
     "output_type": "stream",
     "text": [
      "Requirement already satisfied: pandas in e:\\anacondapython\\lib\\site-packages (1.4.4)\n",
      "Requirement already satisfied: pytz>=2020.1 in e:\\anacondapython\\lib\\site-packages (from pandas) (2022.1)\n",
      "Requirement already satisfied: python-dateutil>=2.8.1 in e:\\anacondapython\\lib\\site-packages (from pandas) (2.8.2)\n",
      "Requirement already satisfied: numpy>=1.18.5 in e:\\anacondapython\\lib\\site-packages (from pandas) (1.21.5)\n",
      "Requirement already satisfied: six>=1.5 in e:\\anacondapython\\lib\\site-packages (from python-dateutil>=2.8.1->pandas) (1.16.0)\n",
      "Requirement already satisfied: pandas in e:\\anacondapython\\lib\\site-packages (1.4.4)\n",
      "Requirement already satisfied: pytz>=2020.1 in e:\\anacondapython\\lib\\site-packages (from pandas) (2022.1)\n",
      "Requirement already satisfied: python-dateutil>=2.8.1 in e:\\anacondapython\\lib\\site-packages (from pandas) (2.8.2)\n",
      "Requirement already satisfied: numpy>=1.18.5 in e:\\anacondapython\\lib\\site-packages (from pandas) (1.21.5)\n",
      "Requirement already satisfied: six>=1.5 in e:\\anacondapython\\lib\\site-packages (from python-dateutil>=2.8.1->pandas) (1.16.0)\n"
     ]
    }
   ],
   "source": [
    "!pip install pandas "
   ]
  },
  {
   "cell_type": "code",
   "execution_count": 4,
   "id": "7a22aef0",
   "metadata": {},
   "outputs": [
    {
     "name": "stdout",
     "output_type": "stream",
     "text": [
      "Requirement already satisfied: numpy in e:\\anacondapython\\lib\\site-packages (1.21.5)\n"
     ]
    }
   ],
   "source": [
    "!pip install numpy"
   ]
  },
  {
   "cell_type": "code",
   "execution_count": 5,
   "id": "1e2ed321",
   "metadata": {},
   "outputs": [
    {
     "name": "stdout",
     "output_type": "stream",
     "text": [
      "Requirement already satisfied: plotly in e:\\anacondapython\\lib\\site-packages (5.9.0)\n",
      "Requirement already satisfied: tenacity>=6.2.0 in e:\\anacondapython\\lib\\site-packages (from plotly) (8.0.1)\n"
     ]
    }
   ],
   "source": [
    "!pip install plotly"
   ]
  },
  {
   "cell_type": "code",
   "execution_count": 6,
   "id": "ec2710ac",
   "metadata": {},
   "outputs": [
    {
     "name": "stdout",
     "output_type": "stream",
     "text": [
      "Requirement already satisfied: dash in e:\\anacondapython\\lib\\site-packages (2.9.1)\n",
      "Requirement already satisfied: dash-html-components==2.0.0 in e:\\anacondapython\\lib\\site-packages (from dash) (2.0.0)\n",
      "Requirement already satisfied: plotly>=5.0.0 in e:\\anacondapython\\lib\\site-packages (from dash) (5.9.0)\n",
      "Requirement already satisfied: Flask>=1.0.4 in e:\\anacondapython\\lib\\site-packages (from dash) (1.1.2)\n",
      "Requirement already satisfied: dash-core-components==2.0.0 in e:\\anacondapython\\lib\\site-packages (from dash) (2.0.0)\n",
      "Requirement already satisfied: dash-table==5.0.0 in e:\\anacondapython\\lib\\site-packages (from dash) (5.0.0)\n",
      "Requirement already satisfied: itsdangerous>=0.24 in e:\\anacondapython\\lib\\site-packages (from Flask>=1.0.4->dash) (2.0.1)\n",
      "Requirement already satisfied: Werkzeug>=0.15 in e:\\anacondapython\\lib\\site-packages (from Flask>=1.0.4->dash) (2.0.3)\n",
      "Requirement already satisfied: Jinja2>=2.10.1 in e:\\anacondapython\\lib\\site-packages (from Flask>=1.0.4->dash) (3.0.3)\n",
      "Requirement already satisfied: click>=5.1 in e:\\anacondapython\\lib\\site-packages (from Flask>=1.0.4->dash) (8.0.4)\n",
      "Requirement already satisfied: tenacity>=6.2.0 in e:\\anacondapython\\lib\\site-packages (from plotly>=5.0.0->dash) (8.0.1)\n",
      "Requirement already satisfied: colorama in e:\\anacondapython\\lib\\site-packages (from click>=5.1->Flask>=1.0.4->dash) (0.4.5)\n",
      "Requirement already satisfied: MarkupSafe>=2.0 in e:\\anacondapython\\lib\\site-packages (from Jinja2>=2.10.1->Flask>=1.0.4->dash) (2.0.1)\n"
     ]
    }
   ],
   "source": [
    "!pip install dash"
   ]
  },
  {
   "cell_type": "code",
   "execution_count": 7,
   "id": "592e9986",
   "metadata": {},
   "outputs": [],
   "source": [
    "import pandas as pd\n",
    "import dash\n",
    "from dash import dcc\n",
    "from dash import html\n",
    "import plotly.express as px"
   ]
  },
  {
   "cell_type": "code",
   "execution_count": 8,
   "id": "64a4571b",
   "metadata": {},
   "outputs": [],
   "source": [
    "import pandas as pd\n",
    "import numpy as np\n",
    "import seaborn as sns\n",
    "import matplotlib.pyplot as plt\n",
    "import plotly.express as px\n",
    "import plotly.graph_objects as go\n",
    "import warnings\n",
    "warnings.filterwarnings('ignore')\n"
   ]
  },
  {
   "cell_type": "code",
   "execution_count": 9,
   "id": "a08ff229",
   "metadata": {},
   "outputs": [
    {
     "data": {
      "text/html": [
       "<div>\n",
       "<style scoped>\n",
       "    .dataframe tbody tr th:only-of-type {\n",
       "        vertical-align: middle;\n",
       "    }\n",
       "\n",
       "    .dataframe tbody tr th {\n",
       "        vertical-align: top;\n",
       "    }\n",
       "\n",
       "    .dataframe thead th {\n",
       "        text-align: right;\n",
       "    }\n",
       "</style>\n",
       "<table border=\"1\" class=\"dataframe\">\n",
       "  <thead>\n",
       "    <tr style=\"text-align: right;\">\n",
       "      <th></th>\n",
       "      <th>District</th>\n",
       "      <th>GA</th>\n",
       "      <th>VDF</th>\n",
       "      <th>MDF</th>\n",
       "      <th>OF</th>\n",
       "      <th>Total</th>\n",
       "      <th>% of GA</th>\n",
       "      <th>Change</th>\n",
       "      <th>Scrub</th>\n",
       "    </tr>\n",
       "  </thead>\n",
       "  <tbody>\n",
       "    <tr>\n",
       "      <th>0</th>\n",
       "      <td>Ariyalur</td>\n",
       "      <td>1947</td>\n",
       "      <td>0</td>\n",
       "      <td>27</td>\n",
       "      <td>302</td>\n",
       "      <td>329</td>\n",
       "      <td>16.90</td>\n",
       "      <td>-1</td>\n",
       "      <td>3</td>\n",
       "    </tr>\n",
       "    <tr>\n",
       "      <th>1</th>\n",
       "      <td>Chennai</td>\n",
       "      <td>144</td>\n",
       "      <td>0</td>\n",
       "      <td>7</td>\n",
       "      <td>6</td>\n",
       "      <td>13</td>\n",
       "      <td>9.03</td>\n",
       "      <td>2</td>\n",
       "      <td>0</td>\n",
       "    </tr>\n",
       "    <tr>\n",
       "      <th>2</th>\n",
       "      <td>Coimbatore(H)</td>\n",
       "      <td>7469</td>\n",
       "      <td>377</td>\n",
       "      <td>943</td>\n",
       "      <td>1307</td>\n",
       "      <td>2627</td>\n",
       "      <td>35.17</td>\n",
       "      <td>767</td>\n",
       "      <td>4</td>\n",
       "    </tr>\n",
       "    <tr>\n",
       "      <th>3</th>\n",
       "      <td>Cuddalore</td>\n",
       "      <td>3706</td>\n",
       "      <td>0</td>\n",
       "      <td>79</td>\n",
       "      <td>338</td>\n",
       "      <td>417</td>\n",
       "      <td>11.25</td>\n",
       "      <td>-17</td>\n",
       "      <td>2</td>\n",
       "    </tr>\n",
       "    <tr>\n",
       "      <th>4</th>\n",
       "      <td>Dharampuri(T)</td>\n",
       "      <td>9622</td>\n",
       "      <td>271</td>\n",
       "      <td>1436</td>\n",
       "      <td>1573</td>\n",
       "      <td>3280</td>\n",
       "      <td>34.09</td>\n",
       "      <td>252</td>\n",
       "      <td>28</td>\n",
       "    </tr>\n",
       "    <tr>\n",
       "      <th>5</th>\n",
       "      <td>Dindigul (Anna)</td>\n",
       "      <td>5580</td>\n",
       "      <td>307</td>\n",
       "      <td>643</td>\n",
       "      <td>712</td>\n",
       "      <td>1662</td>\n",
       "      <td>29.78</td>\n",
       "      <td>136</td>\n",
       "      <td>7</td>\n",
       "    </tr>\n",
       "    <tr>\n",
       "      <th>6</th>\n",
       "      <td>Erode (Periyar)</td>\n",
       "      <td>8209</td>\n",
       "      <td>485</td>\n",
       "      <td>1285</td>\n",
       "      <td>651</td>\n",
       "      <td>2421</td>\n",
       "      <td>29.49</td>\n",
       "      <td>211</td>\n",
       "      <td>29</td>\n",
       "    </tr>\n",
       "    <tr>\n",
       "      <th>7</th>\n",
       "      <td>Kancheepuram</td>\n",
       "      <td>4474</td>\n",
       "      <td>0</td>\n",
       "      <td>87</td>\n",
       "      <td>209</td>\n",
       "      <td>296</td>\n",
       "      <td>6.62</td>\n",
       "      <td>-76</td>\n",
       "      <td>4</td>\n",
       "    </tr>\n",
       "    <tr>\n",
       "      <th>8</th>\n",
       "      <td>Kanniyakumarai(H)</td>\n",
       "      <td>1684</td>\n",
       "      <td>44</td>\n",
       "      <td>444</td>\n",
       "      <td>462</td>\n",
       "      <td>950</td>\n",
       "      <td>56.41</td>\n",
       "      <td>203</td>\n",
       "      <td>5</td>\n",
       "    </tr>\n",
       "    <tr>\n",
       "      <th>9</th>\n",
       "      <td>Karur</td>\n",
       "      <td>2901</td>\n",
       "      <td>0</td>\n",
       "      <td>34</td>\n",
       "      <td>87</td>\n",
       "      <td>121</td>\n",
       "      <td>4.17</td>\n",
       "      <td>27</td>\n",
       "      <td>3</td>\n",
       "    </tr>\n",
       "  </tbody>\n",
       "</table>\n",
       "</div>"
      ],
      "text/plain": [
       "            District    GA  VDF   MDF    OF  Total  % of GA  Change  Scrub\n",
       "0           Ariyalur  1947    0    27   302    329    16.90      -1      3\n",
       "1            Chennai   144    0     7     6     13     9.03       2      0\n",
       "2      Coimbatore(H)  7469  377   943  1307   2627    35.17     767      4\n",
       "3          Cuddalore  3706    0    79   338    417    11.25     -17      2\n",
       "4      Dharampuri(T)  9622  271  1436  1573   3280    34.09     252     28\n",
       "5    Dindigul (Anna)  5580  307   643   712   1662    29.78     136      7\n",
       "6    Erode (Periyar)  8209  485  1285   651   2421    29.49     211     29\n",
       "7       Kancheepuram  4474    0    87   209    296     6.62     -76      4\n",
       "8  Kanniyakumarai(H)  1684   44   444   462    950    56.41     203      5\n",
       "9              Karur  2901    0    34    87    121     4.17      27      3"
      ]
     },
     "execution_count": 9,
     "metadata": {},
     "output_type": "execute_result"
    }
   ],
   "source": [
    "df = pd.read_csv('forest.csv')\n",
    "df.head(10)"
   ]
  },
  {
   "cell_type": "code",
   "execution_count": 10,
   "id": "7de63512",
   "metadata": {},
   "outputs": [],
   "source": [
    "app = dash.Dash(__name__)\n",
    "\n",
    "app.layout = html.Div(children=[\n",
    "   html.H1(children='forest Dashboard'),\n",
    "   html.Div(children='''\n",
    "       Analyzing the Forest data using Plotly Dash\n",
    "   '''),\n",
    "   dcc.Graph(\n",
    "       id='histogram',\n",
    "       figure={\n",
    "           'data': [\n",
    "               {'x': df['District'], 'type': 'histogram', 'name': 'District'},\n",
    "           ],\n",
    "           'layout': {\n",
    "               'title': 'Histogram-DistrictWise Forest Distribution'\n",
    "           }\n",
    "       }\n",
    "   ),\n",
    "    dcc.Graph(\n",
    "       id='boxplot',\n",
    "       figure={\n",
    "           'data': [\n",
    "               {'y': df['District'], 'type': 'VDF', 'name': 'GA'},\n",
    "           ],\n",
    "           'layout': {\n",
    "               'title': 'VDF vs GA'\n",
    "           }\n",
    "       }\n",
    "   ),\n",
    "   dcc.Graph(\n",
    "       id='scatterplot',\n",
    "       figure={\n",
    "           'data': [\n",
    "               {'x': df['District'], 'y': df['MDF'], 'mode': 'MDF', 'name': 'MDF'},\n",
    "           ],\n",
    "           'layout': {\n",
    "               'title': 'Scatter-GA vs MDF'\n",
    "           }\n",
    "       }\n",
    "   ),\n",
    "   dcc.Graph(\n",
    "       id='barchart',\n",
    "       figure={\n",
    "           'data': [\n",
    "               {'x': df['OF'], 'type': 'bar', 'name': 'OF'},\n",
    "           ],\n",
    "           'layout': {\n",
    "               'title': 'Scrub- Distribution'\n",
    "           }\n",
    "       }\n",
    "   ),\n",
    "    dcc.Graph(\n",
    "       id='mosaicplot',\n",
    "       figure=px.histogram(df, x=\"District\", color=\"GA\", barmode=\"overlay\", nbins=10, width=800, height=500)\n",
    "   )\n",
    "    ])\n"
   ]
  },
  {
   "cell_type": "code",
   "execution_count": null,
   "id": "f10c3d00",
   "metadata": {},
   "outputs": [
    {
     "name": "stdout",
     "output_type": "stream",
     "text": [
      "Dash is running on http://127.0.0.1:8080/\n",
      "\n",
      " * Serving Flask app \"__main__\" (lazy loading)\n",
      " * Environment: production\n",
      "\u001b[31m   WARNING: This is a development server. Do not use it in a production deployment.\u001b[0m\n",
      "\u001b[2m   Use a production WSGI server instead.\u001b[0m\n",
      " * Debug mode: off\n"
     ]
    },
    {
     "name": "stderr",
     "output_type": "stream",
     "text": [
      " * Running on http://127.0.0.1:8080/ (Press CTRL+C to quit)\n",
      "127.0.0.1 - - [25/Mar/2023 12:18:39] \"GET / HTTP/1.1\" 200 -\n",
      "127.0.0.1 - - [25/Mar/2023 12:18:50] \"GET /_dash-component-suites/dash/deps/react-dom@16.v2_9_1m1679304827.14.0.min.js HTTP/1.1\" 200 -\n",
      "127.0.0.1 - - [25/Mar/2023 12:18:51] \"GET /_dash-component-suites/dash/deps/prop-types@15.v2_9_1m1679304827.8.1.min.js HTTP/1.1\" 200 -\n",
      "127.0.0.1 - - [25/Mar/2023 12:18:51] \"GET /_dash-component-suites/dash/deps/react@16.v2_9_1m1679304827.14.0.min.js HTTP/1.1\" 200 -\n",
      "127.0.0.1 - - [25/Mar/2023 12:18:51] \"GET /_dash-component-suites/dash/deps/polyfill@7.v2_9_1m1679304827.12.1.min.js HTTP/1.1\" 200 -\n",
      "127.0.0.1 - - [25/Mar/2023 12:18:52] \"GET /_dash-component-suites/dash/dcc/dash_core_components-shared.v2_9_0m1679304826.js HTTP/1.1\" 200 -\n",
      "127.0.0.1 - - [25/Mar/2023 12:18:52] \"GET /_dash-component-suites/dash/dcc/dash_core_components.v2_9_0m1679304826.js HTTP/1.1\" 200 -\n",
      "127.0.0.1 - - [25/Mar/2023 12:18:52] \"GET /_dash-component-suites/dash/dash-renderer/build/dash_renderer.v2_9_1m1679304825.min.js HTTP/1.1\" 200 -\n",
      "127.0.0.1 - - [25/Mar/2023 12:18:52] \"GET /_dash-component-suites/dash/html/dash_html_components.v2_0_9m1679304830.min.js HTTP/1.1\" 200 -\n",
      "127.0.0.1 - - [25/Mar/2023 12:18:52] \"GET /_dash-component-suites/dash/dash_table/bundle.v5_2_3m1679304826.js HTTP/1.1\" 200 -\n",
      "127.0.0.1 - - [25/Mar/2023 12:18:57] \"GET /_dash-layout HTTP/1.1\" 200 -\n",
      "127.0.0.1 - - [25/Mar/2023 12:18:57] \"GET /_dash-dependencies HTTP/1.1\" 200 -\n",
      "127.0.0.1 - - [25/Mar/2023 12:18:58] \"GET /_favicon.ico?v=2.9.1 HTTP/1.1\" 200 -\n",
      "127.0.0.1 - - [25/Mar/2023 12:18:59] \"GET /_dash-component-suites/dash/dcc/async-graph.js HTTP/1.1\" 200 -\n",
      "127.0.0.1 - - [25/Mar/2023 12:19:05] \"GET /_dash-component-suites/dash/dcc/async-plotlyjs.js HTTP/1.1\" 200 -\n"
     ]
    }
   ],
   "source": [
    "if __name__ == '__main__':\n",
    "    app.run_server(port=8080)"
   ]
  },
  {
   "cell_type": "code",
   "execution_count": null,
   "id": "e7f272c6",
   "metadata": {},
   "outputs": [],
   "source": []
  }
 ],
 "metadata": {
  "kernelspec": {
   "display_name": "Python 3 (ipykernel)",
   "language": "python",
   "name": "python3"
  },
  "language_info": {
   "codemirror_mode": {
    "name": "ipython",
    "version": 3
   },
   "file_extension": ".py",
   "mimetype": "text/x-python",
   "name": "python",
   "nbconvert_exporter": "python",
   "pygments_lexer": "ipython3",
   "version": "3.9.13"
  }
 },
 "nbformat": 4,
 "nbformat_minor": 5
}
